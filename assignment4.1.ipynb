{
    "metadata": {
        "language_info": {
            "codemirror_mode": {
                "name": "ipython", 
                "version": 2
            }, 
            "file_extension": ".py", 
            "version": "2.7.11", 
            "name": "python", 
            "pygments_lexer": "ipython2", 
            "mimetype": "text/x-python", 
            "nbconvert_exporter": "python"
        }, 
        "kernelspec": {
            "language": "python", 
            "display_name": "Python 2 with Spark 2.0", 
            "name": "python2-spark20"
        }
    }, 
    "nbformat": 4, 
    "cells": [
        {
            "metadata": {
                "collapsed": false
            }, 
            "cell_type": "markdown", 
            "source": "# Assignment 4\n\nWelcome to Assignment 4. This will be the most fun. Now we will prepare data for plotting.\n\nJust make sure you hit the play button on each cell from top to down. There are three functions you have to implement. Please also make sure than on each change on a function you hit the play button again on the corresponding cell to make it available to the rest of this notebook. Please also make sure to only implement the function bodies and DON'T add any additional code outside functions since this might confuse the autograder.\n\nSo the function below is used to make it easy for you to create a data frame from a cloudant data frame using the so called \"DataSource\" which is some sort of a plugin which allows ApacheSpark to use different data sources.\n"
        }, 
        {
            "execution_count": 288, 
            "metadata": {
                "collapsed": true
            }, 
            "source": "#Please don't modify this function\ndef readDataFrameFromCloudant(host,user,pw,database):\n    cloudantdata=spark.read.format(\"com.cloudant.spark\"). \\\n    option(\"cloudant.host\",host). \\\n    option(\"cloudant.username\", user). \\\n    option(\"cloudant.password\", pw). \\\n    load(database)\n\n    cloudantdata.createOrReplaceTempView(\"washing\")\n    spark.sql(\"SELECT * from washing\").show()\n    return cloudantdata", 
            "cell_type": "code", 
            "outputs": []
        }, 
        {
            "metadata": {}, 
            "cell_type": "markdown", 
            "source": "Sampling is one of the most important things when it comes to visualization because often the data set get so huge that you simply\n\n- can't copy all data to a local Spark driver (Data Science Experience is using a \"local\" Spark driver)\n- can't throw all data at the plotting library\n\nPlease implement a function which returns a 10% sample of a given data frame:"
        }, 
        {
            "execution_count": 289, 
            "metadata": {
                "collapsed": true
            }, 
            "source": "def getSample(df,spark):\n    \n    result = spark.sql(\"select d.temperature from washing where d.temperature is not null\")\n    result_array = result.rdd.map(lambda row : row.temperature).sample(False,0.1).collect()\n    return result_array\n", 
            "cell_type": "code", 
            "outputs": []
        }, 
        {
            "metadata": {}, 
            "cell_type": "markdown", 
            "source": "Now we want to create a histogram and boxplot. Please ignore the sampling for now and retur a python list containing all temperature values from the data set"
        }, 
        {
            "execution_count": 290, 
            "metadata": {
                "collapsed": false
            }, 
            "source": "def getListForHistogramAndBoxPlot(df,spark):\n    import matplotlib.pyplot as plt\n    \n    result = spark.sql(\"select d.temperature from washing where d.temperature is not null\")\n    result_array = result.rdd.map(lambda row : row.temperature).sample(False,0.1).collect()\n        \n    return result_array", 
            "cell_type": "code", 
            "outputs": []
        }, 
        {
            "metadata": {}, 
            "cell_type": "markdown", 
            "source": "Finally we want to create a run chart. Please return two lists (encapusalted in a python tuple object) containing temperature and timestamp (ts) ordered by timestamp. Please refere to the following link to learn more about tuples in python: https://www.tutorialspoint.com/python/python_tuples.htm"
        }, 
        {
            "execution_count": 291, 
            "metadata": {
                "collapsed": false
            }, 
            "source": "#should return a tuple containing the two lists for timestamp and temperature\n#please make sure you take only 10% of the data by sampling\n#please also ensure that you sample in a way that the timestamp samples and temperature samples correspond (=> call sample on an object still containing both dimensions)\ndef getListsForRunChart(df,spark):\n    result = spark.sql(\"select d.temperature,d.ts from washing where d.temperature is not null order by d.ts asc\")\n    result_rdd = result.rdd.sample(False,0.1).map(lambda row : (row.ts,row.temperature))\n    result_array_ts = result_rdd.map(lambda (ts,temperature): ts).collect()\n    result_array_temperature = result_rdd.map(lambda (ts,temperature): temperature).collect()\n    return (result_array_ts,result_array_temperature)", 
            "cell_type": "code", 
            "outputs": []
        }, 
        {
            "metadata": {}, 
            "cell_type": "markdown", 
            "source": "### PLEASE DON'T REMOVE THIS BLOCK - THE FOLLOWING CODE IS NOT GRADED\n#axx\n### PLEASE DON'T REMOVE THIS BLOCK - THE FOLLOWING CODE IS NOT GRADED"
        }, 
        {
            "execution_count": 292, 
            "metadata": {
                "collapsed": false
            }, 
            "source": "#TODO Please provide your Cloudant credentials here\nhostname = \"0f8410a3-0e0f-467f-a3cf-b9fbd5da37c2-bluemix.cloudant.com\"\nuser = \"0f8410a3-0e0f-467f-a3cf-b9fbd5da37c2-bluemix\"\npw = \"1363e31faf953220b28f78a9afae906603f2882db47b0e9375bf650569f4d368\"\ndatabase = \"washing\"\ncloudantdata=readDataFrameFromCloudant(hostname, user, pw, database)", 
            "cell_type": "code", 
            "outputs": [
                {
                    "name": "stdout", 
                    "output_type": "stream", 
                    "text": "+--------------------+--------------------+--------------------+\n|                 _id|                _rev|                   d|\n+--------------------+--------------------+--------------------+\n|0f83931363c7ce12d...|1-ffedf0982164b41...|[2,null,null,74,n...|\n|0f83931363c7ce12d...|1-25fb1d3ec6eecb7...|[2,null,null,null...|\n|0f83931363c7ce12d...|1-69c8b2d638db12e...|[10,11,acceptable...|\n|0f83931363c7ce12d...|1-2e2a41b45fcb93a...|[11,11,acceptable...|\n|0f83931363c7ce12d...|1-7f45175964250f8...|[5,null,null,68,n...|\n|0f83931363c7ce12d...|1-75f7f3cdb9a3787...|[17,11,acceptable...|\n|0f83931363c7ce12d...|1-a53fb4cd7965f0f...|[20,11,acceptable...|\n|0f83931363c7ce12d...|1-2507d6eb21e3936...|[34,11,acceptable...|\n|0f83931363c7ce12d...|1-fc51c2dbb04a718...|[43,11,acceptable...|\n|0f83931363c7ce12d...|1-91dd8f0ce02523b...|[50,11,acceptable...|\n|0f83931363c7ce12d...|1-3685ecced4c3b9f...|[51,11,acceptable...|\n|0f83931363c7ce12d...|1-71d10c74297acf1...|[55,11,acceptable...|\n|0f83931363c7ce12d...|1-c9520469ec2a58e...|[72,11,acceptable...|\n|0f83931363c7ce12d...|1-5d5d94caffcd155...|[85,11,acceptable...|\n|0f83931363c7ce12d...|1-5d5b472676a01f2...|[102,11,acceptabl...|\n|0f83931363c7ce12d...|1-3a04267e59f13d6...|[107,11,acceptabl...|\n|0f83931363c7ce12d...|1-1139a93187213fd...|[108,11,acceptabl...|\n|0f83931363c7ce12d...|1-08a6b268169f1cb...|[120,11,acceptabl...|\n|0f83931363c7ce12d...|1-34bad88df7dfd0e...|[124,11,acceptabl...|\n|0f83931363c7ce12d...|1-b3845fe45177cfb...|[44,null,null,79,...|\n+--------------------+--------------------+--------------------+\nonly showing top 20 rows\n\n"
                }
            ]
        }, 
        {
            "execution_count": 293, 
            "metadata": {
                "collapsed": true
            }, 
            "source": "%matplotlib inline\nimport matplotlib.pyplot as plt", 
            "cell_type": "code", 
            "outputs": []
        }, 
        {
            "execution_count": 294, 
            "metadata": {
                "collapsed": false
            }, 
            "source": "plt.hist(getListForHistogramAndBoxPlot(cloudantdata,spark))\nplt.show()", 
            "cell_type": "code", 
            "outputs": [
                {
                    "metadata": {}, 
                    "data": {
                        "text/plain": "<matplotlib.figure.Figure at 0x7f76223a9e50>", 
                        "image/png": "[encoded data removed]"
                    }, 
                    "output_type": "display_data"
                }
            ]
        }, 
        {
            "execution_count": 295, 
            "metadata": {
                "collapsed": false
            }, 
            "source": "plt.boxplot(getListForHistogramAndBoxPlot(cloudantdata,spark))\nplt.show()", 
            "cell_type": "code", 
            "outputs": [
                {
                    "metadata": {}, 
                    "data": {
                        "text/plain": "<matplotlib.figure.Figure at 0x7f75b476da90>", 
                        "image/png": "[encoded data removed]"
                    }, 
                    "output_type": "display_data"
                }
            ]
        }, 
        {
            "execution_count": 296, 
            "metadata": {
                "collapsed": false
            }, 
            "source": "lists = getListsForRunChart(cloudantdata,spark)", 
            "cell_type": "code", 
            "outputs": []
        }, 
        {
            "execution_count": 297, 
            "metadata": {
                "collapsed": false
            }, 
            "source": "plt.plot(lists[0],lists[1])\nplt.xlabel(\"time\")\nplt.ylabel(\"temperature\")\nplt.show()", 
            "cell_type": "code", 
            "outputs": [
                {
                    "metadata": {}, 
                    "data": {
                        "text/plain": "<matplotlib.figure.Figure at 0x7f7622712690>", 
                        "image/png": "[encoded data removed]"
                    }, 
                    "output_type": "display_data"
                }
            ]
        }, 
        {
            "metadata": {}, 
            "cell_type": "markdown", 
            "source": "Congratulations, you are done! Please download the notebook as python file, name it assignment4.1.py and sumbit it to the grader."
        }, 
        {
            "execution_count": null, 
            "metadata": {
                "collapsed": true
            }, 
            "source": "", 
            "cell_type": "code", 
            "outputs": []
        }, 
        {
            "execution_count": null, 
            "metadata": {
                "collapsed": true
            }, 
            "source": "", 
            "cell_type": "code", 
            "outputs": []
        }, 
        {
            "execution_count": null, 
            "metadata": {
                "collapsed": true
            }, 
            "source": "", 
            "cell_type": "code", 
            "outputs": []
        }, 
        {
            "execution_count": null, 
            "metadata": {
                "collapsed": true
            }, 
            "source": "", 
            "cell_type": "code", 
            "outputs": []
        }, 
        {
            "execution_count": null, 
            "metadata": {
                "collapsed": true
            }, 
            "source": "", 
            "cell_type": "code", 
            "outputs": []
        }, 
        {
            "execution_count": null, 
            "metadata": {
                "collapsed": true
            }, 
            "source": "", 
            "cell_type": "code", 
            "outputs": []
        }, 
        {
            "execution_count": null, 
            "metadata": {
                "collapsed": true
            }, 
            "source": "", 
            "cell_type": "code", 
            "outputs": []
        }, 
        {
            "execution_count": null, 
            "metadata": {
                "collapsed": true
            }, 
            "source": "", 
            "cell_type": "code", 
            "outputs": []
        }
    ], 
    "nbformat_minor": 0
}