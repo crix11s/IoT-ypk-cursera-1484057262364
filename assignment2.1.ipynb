{
    "nbformat_minor": 0, 
    "metadata": {
        "language_info": {
            "pygments_lexer": "ipython2", 
            "codemirror_mode": {
                "name": "ipython", 
                "version": 2
            }, 
            "file_extension": ".py", 
            "version": "2.7.11", 
            "mimetype": "text/x-python", 
            "name": "python", 
            "nbconvert_exporter": "python"
        }, 
        "kernelspec": {
            "name": "python2-spark20", 
            "language": "python", 
            "display_name": "Python 2 with Spark 2.0"
        }
    }, 
    "cells": [
        {
            "source": "### Assignment 2\nWelcome to Assignment 2. This will be fun. It is the first time you actually access external data from ApacheSpark. \n\nJust make sure you hit the play button on each cell from top to down. There are three functions you have to implement. Please also make sure than on each change on a function you hit the play button again on the corresponding cell to make it available to the rest of this notebook.\n\n##### Please also make sure to only implement the function bodies and DON'T add any additional code outside functions since this might confuse the autograder.", 
            "metadata": {
                "collapsed": false
            }, 
            "cell_type": "markdown"
        }, 
        {
            "source": "So the function below is used to make it easy for you to create a data frame from a cloudant data frame using the so called \"DataSource\" which is some sort of a plugin which allows ApacheSpark to use different data sources.", 
            "metadata": {}, 
            "cell_type": "markdown"
        }, 
        {
            "metadata": {
                "collapsed": true
            }, 
            "source": "#Please don't modify this function\ndef readDataFrameFromCloudant(host,user,pw,database):\n    sparkSession = SQLContext.getOrCreate(sc).sparkSession\n\n    cloudantdata=sparkSession.read.format(\"com.cloudant.spark\"). \\\n    option(\"cloudant.host\",host). \\\n    option(\"cloudant.username\", user). \\\n    option(\"cloudant.password\", pw). \\\n    load(database)\n\n    cloudantdata.createOrReplaceTempView(\"washing\")\n    spark.sql(\"SELECT * from washing\").show()\n    return cloudantdata", 
            "execution_count": 204, 
            "cell_type": "code", 
            "outputs": []
        }, 
        {
            "source": "This is the first function you have to implement. You are passed a dataframe object. We've also registered the dataframe in the ApacheSparkSQL catalog - so you can also issue queries against the \"washing\" table using \"spark.sql()\". Hint: To get an idea about the contents of the catalog you can use: spark.catalog.listTables().\nSo now it's time to implement your first function. You are free to use the dataframe API, SQL or RDD API. In case you want to use the RDD API just obtain the encapsulated RDD using \"df.rdd\". You can test the function by running one of the three last cells of this notebook, but please make sure you run the cells from top to down since some are dependant of each other...", 
            "metadata": {}, 
            "cell_type": "markdown"
        }, 
        {
            "metadata": {
                "collapsed": false
            }, 
            "source": "def count(df,spark):\n    #df=spark.catalog.listTables()\n    df = spark.sql(\"select * from washing\").count()\n    # df=df.select('*').collect()\n    return df", 
            "execution_count": 205, 
            "cell_type": "code", 
            "outputs": []
        }, 
        {
            "source": "No it's time to implement the second function. Please return an integer containing the number of fields. The most easy way to get this is using the dataframe API. Hint: You might find the dataframe API documentation useful: http://spark.apache.org/docs/latest/api/python/pyspark.sql.html#pyspark.sql.DataFrame", 
            "metadata": {}, 
            "cell_type": "markdown"
        }, 
        {
            "metadata": {
                "collapsed": false
            }, 
            "source": "def getNumberOfFields(df,spark):\n    #TODO Please enter your code here\n    #numRecs = spark.sql(\"select * from washing\").count()\n    #df = (len(df.columns) * numRecs)\n    #df=df.head()\n    # df=df.select('*').collect()\n    df=df.columns\n    df = len(df)\n    return df", 
            "execution_count": 206, 
            "cell_type": "code", 
            "outputs": []
        }, 
        {
            "source": "Finally, please implement a function which returns a (python) list of string values of the field names in this data frame. Hint: Just copy&past doesn't work because the auto-grader will create a random data frame for testing, so please use the data frame API as well. Again, this is the link to the documentation: http://spark.apache.org/docs/latest/api/python/pyspark.sql.html#pyspark.sql.DataFrame", 
            "metadata": {}, 
            "cell_type": "markdown"
        }, 
        {
            "metadata": {
                "collapsed": false
            }, 
            "source": "def getFieldNames(df,spark):\n    #TODO Please enter your code here\n    # df = df.columns\n    # df=spark.sql(\"SELECT columns from washing\").show()\n    #df=df.show\n    #df=df.schema.fields\n    df=df.columns\n    return df", 
            "execution_count": 207, 
            "cell_type": "code", 
            "outputs": []
        }, 
        {
            "source": "### PLEASE DON'T REMOVE THIS BLOCK - THE FOLLOWING CODE IS NOT GRADED\n#axx\n### PLEASE DON'T REMOVE THIS BLOCK - THE FOLLOWING CODE IS NOT GRADED\nSo after this block you can basically do what you like since the auto-grader is not considering this part of the notebook", 
            "metadata": {}, 
            "cell_type": "markdown"
        }, 
        {
            "source": "Now it is time to connect to the cloudant database. Please have a look at the Video \"Overview of end-to-end scenario\" of Week 2 starting from 6:40 in order to learn how to obtain the credentials for the database. Please paste this credentials as strings into the below code", 
            "metadata": {}, 
            "cell_type": "markdown"
        }, 
        {
            "metadata": {
                "collapsed": false
            }, 
            "source": "#TODO Please provide your Cloudant credentials here\nhostname = \"0f8410a3-0e0f-467f-a3cf-b9fbd5da37c2-bluemix.cloudant.com\"\nuser = \"0f8410a3-0e0f-467f-a3cf-b9fbd5da37c2-bluemix\"\npw = \"1363e31faf953220b28f78a9afae906603f2882db47b0e9375bf650569f4d368\"\ndatabase = \"washing\" #as long as you didn't change this in the NodeRED flow the database name stays the same\ncloudantdata=readDataFrameFromCloudant(hostname, user, pw, database)", 
            "execution_count": 208, 
            "cell_type": "code", 
            "outputs": [
                {
                    "text": "+--------------------+--------------------+--------------------+\n|                 _id|                _rev|                   d|\n+--------------------+--------------------+--------------------+\n|0f83931363c7ce12d...|1-ffedf0982164b41...|[2,null,null,74,n...|\n|0f83931363c7ce12d...|1-25fb1d3ec6eecb7...|[2,null,null,null...|\n|0f83931363c7ce12d...|1-69c8b2d638db12e...|[10,11,acceptable...|\n|0f83931363c7ce12d...|1-2e2a41b45fcb93a...|[11,11,acceptable...|\n|0f83931363c7ce12d...|1-7f45175964250f8...|[5,null,null,68,n...|\n|0f83931363c7ce12d...|1-75f7f3cdb9a3787...|[17,11,acceptable...|\n|0f83931363c7ce12d...|1-a53fb4cd7965f0f...|[20,11,acceptable...|\n|0f83931363c7ce12d...|1-2507d6eb21e3936...|[34,11,acceptable...|\n|0f83931363c7ce12d...|1-fc51c2dbb04a718...|[43,11,acceptable...|\n|0f83931363c7ce12d...|1-91dd8f0ce02523b...|[50,11,acceptable...|\n|0f83931363c7ce12d...|1-3685ecced4c3b9f...|[51,11,acceptable...|\n|0f83931363c7ce12d...|1-71d10c74297acf1...|[55,11,acceptable...|\n|0f83931363c7ce12d...|1-c9520469ec2a58e...|[72,11,acceptable...|\n|0f83931363c7ce12d...|1-5d5d94caffcd155...|[85,11,acceptable...|\n|0f83931363c7ce12d...|1-5d5b472676a01f2...|[102,11,acceptabl...|\n|0f83931363c7ce12d...|1-3a04267e59f13d6...|[107,11,acceptabl...|\n|0f83931363c7ce12d...|1-1139a93187213fd...|[108,11,acceptabl...|\n|0f83931363c7ce12d...|1-08a6b268169f1cb...|[120,11,acceptabl...|\n|0f83931363c7ce12d...|1-34bad88df7dfd0e...|[124,11,acceptabl...|\n|0f83931363c7ce12d...|1-b3845fe45177cfb...|[44,null,null,79,...|\n+--------------------+--------------------+--------------------+\nonly showing top 20 rows\n\n", 
                    "output_type": "stream", 
                    "name": "stdout"
                }
            ]
        }, 
        {
            "source": "The following cell can be used to test your count function", 
            "metadata": {}, 
            "cell_type": "markdown"
        }, 
        {
            "metadata": {
                "collapsed": false
            }, 
            "source": "count(cloudantdata,spark)", 
            "execution_count": 209, 
            "cell_type": "code", 
            "outputs": [
                {
                    "metadata": {}, 
                    "output_type": "execute_result", 
                    "data": {
                        "text/plain": "563"
                    }, 
                    "execution_count": 209
                }
            ]
        }, 
        {
            "source": "The following cell can be used to test your getNumberOfFields function", 
            "metadata": {}, 
            "cell_type": "markdown"
        }, 
        {
            "metadata": {
                "collapsed": false
            }, 
            "source": "getNumberOfFields(cloudantdata,spark)", 
            "execution_count": 210, 
            "cell_type": "code", 
            "outputs": [
                {
                    "metadata": {}, 
                    "output_type": "execute_result", 
                    "data": {
                        "text/plain": "3"
                    }, 
                    "execution_count": 210
                }
            ]
        }, 
        {
            "source": "The following cell can be used to test your getFieldNames function", 
            "metadata": {}, 
            "cell_type": "markdown"
        }, 
        {
            "metadata": {
                "collapsed": false
            }, 
            "source": "getFieldNames(cloudantdata,spark)", 
            "execution_count": 211, 
            "cell_type": "code", 
            "outputs": [
                {
                    "metadata": {}, 
                    "output_type": "execute_result", 
                    "data": {
                        "text/plain": "['_id', '_rev', 'd']"
                    }, 
                    "execution_count": 211
                }
            ]
        }, 
        {
            "source": "Congratulations, you are done. So please export this notebook as python script using the \"File->Download as->Python (.py)\" option in the menue of this notebook. This file should be named \"assignment2.1.py\" and uploaded to the autograder of week2.", 
            "metadata": {}, 
            "cell_type": "markdown"
        }, 
        {
            "metadata": {
                "collapsed": true
            }, 
            "source": "", 
            "execution_count": null, 
            "cell_type": "code", 
            "outputs": []
        }, 
        {
            "metadata": {
                "collapsed": true
            }, 
            "source": "", 
            "execution_count": null, 
            "cell_type": "code", 
            "outputs": []
        }, 
        {
            "metadata": {
                "collapsed": true
            }, 
            "source": "", 
            "execution_count": null, 
            "cell_type": "code", 
            "outputs": []
        }, 
        {
            "metadata": {
                "collapsed": true
            }, 
            "source": "", 
            "execution_count": null, 
            "cell_type": "code", 
            "outputs": []
        }, 
        {
            "metadata": {
                "collapsed": true
            }, 
            "source": "", 
            "execution_count": null, 
            "cell_type": "code", 
            "outputs": []
        }, 
        {
            "metadata": {
                "collapsed": true
            }, 
            "source": "", 
            "execution_count": null, 
            "cell_type": "code", 
            "outputs": []
        }
    ], 
    "nbformat": 4
}